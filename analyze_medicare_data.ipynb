{
 "cells": [
  {
   "cell_type": "markdown",
   "metadata": {},
   "source": [
    "Import necessary packages and creating function std_name to standardized table and column name as per requirement"
   ]
  },
  {
   "cell_type": "code",
   "execution_count": 1,
   "metadata": {
    "collapsed": true
   },
   "outputs": [],
   "source": [
    "import requests,zipfile,io,sys,os,os.path,shutil,csv\n",
    "from os.path import join\n",
    "from __future__ import unicode_literals\n",
    "def std_name(name,kind = \"t\"):\n",
    "    name.strip()\n",
    "    name=name.replace(\" \",\"_\")\n",
    "    name=name.replace(\"\\t\",\"_\")\n",
    "    name=name.replace(\"%\",\"pct\")\n",
    "    name=name.replace(\"/\",\"_\")\n",
    "    name=name.replace(\"-\",\"_\")\n",
    "    name=name.replace(\"#\",\"_num\")\n",
    "    name=name.replace(\",\",\"_\")\n",
    "    name=name.lower()\n",
    "    if kind == 't':\n",
    "        if not name[0].isalpha():\n",
    "            name=\"t_\"+name\n",
    "    if kind == 'c':\n",
    "        if not name[0].isalpha():\n",
    "            name=\"c_\"+name\n",
    "    return name\n",
    "\n",
    "def str_convertor(lst): \n",
    "    return[str(elem) for elem in lst]"
   ]
  },
  {
   "cell_type": "markdown",
   "metadata": {},
   "source": [
    "Downloading Zip file"
   ]
  },
  {
   "cell_type": "code",
   "execution_count": 2,
   "metadata": {
    "collapsed": true
   },
   "outputs": [],
   "source": [
    "results = requests.get('https://data.medicare.gov/views/bg9k-emty/files/0a9879e0-3312-4719-a1db-39fd114890f1?content_type=application%2Fzip%3%20charset%3Dbinary&filename=Hospital_Revised_Flatfiles.zip')\n",
    "data_zip = zipfile.ZipFile(io.BytesIO(results.content))"
   ]
  },
  {
   "cell_type": "markdown",
   "metadata": {},
   "source": [
    "Creating staging directory"
   ]
  },
  {
   "cell_type": "code",
   "execution_count": 3,
   "metadata": {
    "collapsed": true
   },
   "outputs": [],
   "source": [
    "wd = os.getcwd()\n",
    "staging_path = wd + \"\\\\staging\"\n",
    "if os.path.exists(staging_path):\n",
    "    shutil.rmtree(staging_path)"
   ]
  },
  {
   "cell_type": "markdown",
   "metadata": {},
   "source": [
    "Extracting Zip file in staging directory"
   ]
  },
  {
   "cell_type": "code",
   "execution_count": 4,
   "metadata": {
    "collapsed": true
   },
   "outputs": [],
   "source": [
    "data_zip.extractall(\"staging\")"
   ]
  },
  {
   "cell_type": "markdown",
   "metadata": {},
   "source": [
    "Creating new files with utf-8 encoding and tranforming file name and headers as per requirement and importing data from old files to new files"
   ]
  },
  {
   "cell_type": "code",
   "execution_count": 5,
   "metadata": {
    "collapsed": true,
    "scrolled": true
   },
   "outputs": [],
   "source": [
    "os.chdir(staging_path)\n",
    "files = os.listdir()\n",
    "for file in files:\n",
    "    if not file.endswith(\".csv\"):\n",
    "        os.remove(file)\n",
    "        continue\n",
    "    original_file=file + \"-original\"\n",
    "    os.rename(file,original_file)\n",
    "    new_name=std_name(file,\"t\")\n",
    "    with io.open(original_file, 'r', encoding=\"windows-1252\") as f_in:\n",
    "        f_in = csv.reader(x.replace('\\0', '') for x in f_in)\n",
    "        with io.open(new_name, 'w', encoding=\"utf8\", newline='') as f_o:\n",
    "            f_out = csv.writer(f_o,delimiter=',')\n",
    "            for i, line in enumerate(f_in):\n",
    "                if line == [] or line == [' ']:\n",
    "                    continue\n",
    "                elif i == 0:\n",
    "                    s = []\n",
    "                    for element in range(0,len(line)):\n",
    "                        s.append(std_name(line[element],\"c\"))\n",
    "                    f_out.writerow(str_convertor(s))\n",
    "                else:\n",
    "                    f_out.writerow(str_convertor(line))\n",
    "os.chdir(wd)"
   ]
  },
  {
   "cell_type": "markdown",
   "metadata": {},
   "source": [
    "Importing sqlite package"
   ]
  },
  {
   "cell_type": "code",
   "execution_count": 6,
   "metadata": {
    "collapsed": true
   },
   "outputs": [],
   "source": [
    "import sqlite3"
   ]
  },
  {
   "cell_type": "markdown",
   "metadata": {},
   "source": [
    "Creating new database medicare_hospital_compare.db"
   ]
  },
  {
   "cell_type": "code",
   "execution_count": 7,
   "metadata": {
    "collapsed": true
   },
   "outputs": [],
   "source": [
    "db = sqlite3.connect('medicare_hospital_compare.db')\n",
    "c = db.cursor()"
   ]
  },
  {
   "cell_type": "markdown",
   "metadata": {},
   "source": [
    "Creating tables for each files and importing data fron csv files to database tables"
   ]
  },
  {
   "cell_type": "code",
   "execution_count": 8,
   "metadata": {
    "collapsed": true,
    "scrolled": true
   },
   "outputs": [],
   "source": [
    "os.chdir(staging_path)\n",
    "tables = os.listdir()\n",
    "for table in tables:\n",
    "    if table.endswith(\".csv-original\"):\n",
    "        continue\n",
    "    else:\n",
    "        sql_table = table.rstrip('.csv')\n",
    "        with io.open(table, 'r', encoding=\"utf8\") as t_in:\n",
    "            table_in = csv.reader(t_in)\n",
    "            h = next(table_in)\n",
    "            header = []\n",
    "            for i in range(0,len(h)):\n",
    "                header.append(h[i] + ' ' + 'TEXT')\n",
    "                str1 = ','.join(header)\n",
    "            create_str ='CREATE TABLE IF NOT EXISTS ' + sql_table + ' ' +'(' + str1 + ')'\n",
    "            c.execute(create_str)\n",
    "            stmt = \"INSERT INTO \" + sql_table + '({0})' + ' VALUES({1});'\n",
    "            query = stmt.format(','.join(h), ','.join('?' * len(h)))\n",
    "            for line in table_in:\n",
    "                c.execute(query, line)\n",
    "os.chdir(wd)\n",
    "db.commit()\n",
    "db.close()"
   ]
  },
  {
   "cell_type": "markdown",
   "metadata": {},
   "source": [
    "Downloading excel file from file"
   ]
  },
  {
   "cell_type": "code",
   "execution_count": 9,
   "metadata": {
    "collapsed": true
   },
   "outputs": [],
   "source": [
    "dls = \"http://kevincrook.com/utd/hospital_ranking_focus_states.xlsx\"\n",
    "resp = requests.get(dls)\n",
    "with io.open('ranking.xlsx', 'wb') as output:\n",
    "    output.write(resp.content)"
   ]
  },
  {
   "cell_type": "markdown",
   "metadata": {},
   "source": [
    "Converting excel file to pandas dataframe"
   ]
  },
  {
   "cell_type": "code",
   "execution_count": 10,
   "metadata": {
    "collapsed": true
   },
   "outputs": [],
   "source": [
    "import pandas as pd\n",
    "xl = pd.ExcelFile(\"ranking.xlsx\")"
   ]
  },
  {
   "cell_type": "markdown",
   "metadata": {},
   "source": [
    "Tranforming column names and creating sqlite table for each sheets"
   ]
  },
  {
   "cell_type": "code",
   "execution_count": 11,
   "metadata": {
    "collapsed": true
   },
   "outputs": [],
   "source": [
    "db = sqlite3.connect('medicare_hospital_compare.db')\n",
    "c = db.cursor()\n",
    "sheets = xl.sheet_names\n",
    "for sheet in sheets:\n",
    "    df = pd.DataFrame()\n",
    "    header = []\n",
    "    n_t = std_name(sheet)\n",
    "    df = pd.read_excel(xl,sheetname=sheet, dtype=str) \n",
    "    h = list(df.columns.values)\n",
    "    for value in h:\n",
    "        header.append(std_name(value,\"c\"))\n",
    "    df.columns = header\n",
    "    df.applymap(str)\n",
    "    df.to_sql(n_t, db, if_exists=\"replace\",index=False)\n",
    "db.commit()\n",
    "db.close()"
   ]
  },
  {
   "cell_type": "markdown",
   "metadata": {},
   "source": [
    "Merging tables in database and creating new merged tables according to output requirements and exporting merged tables as a pandas dataframes"
   ]
  },
  {
   "cell_type": "code",
   "execution_count": 12,
   "metadata": {
    "collapsed": true
   },
   "outputs": [],
   "source": [
    "db = sqlite3.connect('medicare_hospital_compare.db')\n",
    "c = db.cursor()\n",
    "query1 = 'DROP TABLE IF EXISTS merge_table'\n",
    "query2 = 'SELECT * from hospital_national_ranking ORDER BY provider_id'\n",
    "query3 = 'SELECT * from hospital_general_information ORDER BY provider_id'\n",
    "query4 = 'CREATE TABLE IF NOT EXISTS merge_table AS SELECT b.ranking, a.provider_id, a.hospital_name, a.city, a.state, a.county_name FROM hospital_general_information AS a JOIN hospital_national_ranking AS b ON a.provider_id = b.provider_id'\n",
    "query5 = 'SELECT * from merge_table ORDER BY state'\n",
    "query6 = 'SELECT * from focus_states ORDER BY state_abbreviation'\n",
    "query7 = 'DROP TABLE IF EXISTS final_table'\n",
    "query8 = 'CREATE TABLE IF NOT EXISTs final_table AS SELECT merge_table.*, focus_states.state_name FROM focus_states JOIN merge_table ON merge_table.state = focus_states.state_abbreviation'\n",
    "c.execute(query1)\n",
    "c.execute(query2)\n",
    "c.execute(query3)\n",
    "c.execute(query4)\n",
    "c.execute(query5)\n",
    "c.execute(query6)\n",
    "c.execute(query7)\n",
    "c.execute(query8)\n",
    "db.commit\n",
    "master_table = pd.read_sql_query(\"select * from final_table;\", db)\n",
    "national_table = pd.read_sql_query(\"select * from merge_table;\", db)\n",
    "measure_table = pd.read_sql_query(\"select state, measure_id, measure_name, score from timely_and_effective_care___hospital\", db)\n",
    "db.close()"
   ]
  },
  {
   "cell_type": "markdown",
   "metadata": {},
   "source": [
    "Changing the datatypes to perform analytics and creating list and dictionary to use for loops"
   ]
  },
  {
   "cell_type": "code",
   "execution_count": 13,
   "metadata": {
    "collapsed": true
   },
   "outputs": [],
   "source": [
    "states= list(master_table.state_name.unique())\n",
    "abb= list(master_table.state.unique())\n",
    "state_dict = dict(zip(abb, states))\n",
    "master_table[['ranking']] = master_table[['ranking']].astype(int)\n",
    "national_table[['ranking']] = national_table[['ranking']].astype(int)\n",
    "title = ['Provider ID','Hospital Name','City','State','County']"
   ]
  },
  {
   "cell_type": "markdown",
   "metadata": {},
   "source": [
    "Creating output excel file"
   ]
  },
  {
   "cell_type": "code",
   "execution_count": 14,
   "metadata": {
    "collapsed": true
   },
   "outputs": [],
   "source": [
    "from pandas import ExcelWriter\n",
    "writer = pd.ExcelWriter('hospital_ranking.xlsx')"
   ]
  },
  {
   "cell_type": "markdown",
   "metadata": {},
   "source": [
    "Writing first sheet according to requrements of output "
   ]
  },
  {
   "cell_type": "code",
   "execution_count": 15,
   "metadata": {
    "collapsed": true
   },
   "outputs": [],
   "source": [
    "Nationwide = national_table.sort_values('ranking')\n",
    "Nationwide = Nationwide.head(n=100)\n",
    "del Nationwide['ranking']\n",
    "Nationwide.columns = title\n",
    "Nationwide.to_excel(writer,'Nationwide',index=False)"
   ]
  },
  {
   "cell_type": "markdown",
   "metadata": {},
   "source": [
    "Writing rest of the sheets according to requrements of output "
   ]
  },
  {
   "cell_type": "code",
   "execution_count": 16,
   "metadata": {
    "collapsed": true
   },
   "outputs": [],
   "source": [
    "d = {}\n",
    "for state in states:\n",
    "    temp = master_table[master_table['state_name'] == state]\n",
    "    d[state] = temp.sort_values('ranking')\n",
    "    d[state] = d[state].head(n=100)\n",
    "    del d[state]['state_name']\n",
    "    del d[state]['ranking']\n",
    "    d[state].columns = title\n",
    "    d[state].to_excel(writer,state,index=False)\n",
    "writer.save()\n",
    "writer.close()"
   ]
  },
  {
   "cell_type": "markdown",
   "metadata": {},
   "source": [
    "Tranforming pandas dataframe for second output file"
   ]
  },
  {
   "cell_type": "code",
   "execution_count": 17,
   "metadata": {},
   "outputs": [
    {
     "name": "stderr",
     "output_type": "stream",
     "text": [
      "C:\\Users\\User\\Anaconda3\\lib\\site-packages\\ipykernel_launcher.py:2: SettingWithCopyWarning: \n",
      "A value is trying to be set on a copy of a slice from a DataFrame.\n",
      "Try using .loc[row_indexer,col_indexer] = value instead\n",
      "\n",
      "See the caveats in the documentation: http://pandas.pydata.org/pandas-docs/stable/indexing.html#indexing-view-versus-copy\n",
      "  \n"
     ]
    }
   ],
   "source": [
    "measures = measure_table[measure_table['score'].astype(str).str.isdigit()]\n",
    "measures['score'] = measures['score'].apply(pd.to_numeric, errors='coerce')"
   ]
  },
  {
   "cell_type": "markdown",
   "metadata": {},
   "source": [
    "Writing first sheet according to requrements of output "
   ]
  },
  {
   "cell_type": "code",
   "execution_count": 18,
   "metadata": {
    "collapsed": true
   },
   "outputs": [],
   "source": [
    "writer2 = pd.ExcelWriter('measure_statistics.xlsx')\n",
    "nation_stat =  measures.groupby(['measure_id','measure_name']).agg(['min','max','mean','std'])\n",
    "nation_stat=nation_stat.reset_index()\n",
    "col_name = ['Measure ID','Measure Name','Minimum','Maximum','Average','Standard Deviation']\n",
    "nation_stat.columns = col_name\n",
    "nation_stat.to_excel(writer2,'Nationwide',index=False)"
   ]
  },
  {
   "cell_type": "markdown",
   "metadata": {},
   "source": [
    "Creating new tranformed dataframe for rest of the sheets"
   ]
  },
  {
   "cell_type": "code",
   "execution_count": 19,
   "metadata": {
    "collapsed": true
   },
   "outputs": [],
   "source": [
    "grouped_data = measures.groupby(['state', 'measure_id','measure_name']).agg(['min','max','mean','std'])\n",
    "grouped_data=grouped_data.reset_index()\n",
    "col_name = ['state', 'Measure ID','Measure Name','Minimum','Maximum','Average','Standard Deviation']\n",
    "grouped_data.columns = col_name\n",
    "grouped_data['Standard Deviation'].fillna(0, inplace=True)"
   ]
  },
  {
   "cell_type": "markdown",
   "metadata": {},
   "source": [
    "Writing rest of the sheets according to requrements of output "
   ]
  },
  {
   "cell_type": "code",
   "execution_count": 20,
   "metadata": {
    "collapsed": true
   },
   "outputs": [],
   "source": [
    "for a,f in state_dict.items():\n",
    "    temp = grouped_data[grouped_data['state'] == a]\n",
    "    del temp['state']\n",
    "    temp.to_excel(writer2,f,index=False)\n",
    "writer2.save()\n",
    "writer2.close()"
   ]
  }
 ],
 "metadata": {
  "kernelspec": {
   "display_name": "Python 3",
   "language": "python",
   "name": "python3"
  },
  "language_info": {
   "codemirror_mode": {
    "name": "ipython",
    "version": 3
   },
   "file_extension": ".py",
   "mimetype": "text/x-python",
   "name": "python",
   "nbconvert_exporter": "python",
   "pygments_lexer": "ipython3",
   "version": "3.6.3"
  }
 },
 "nbformat": 4,
 "nbformat_minor": 2
}
